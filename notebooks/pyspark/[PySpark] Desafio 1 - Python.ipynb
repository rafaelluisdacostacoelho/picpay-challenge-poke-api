{
 "cells": [
  {
   "cell_type": "code",
   "execution_count": 1,
   "metadata": {},
   "outputs": [],
   "source": [
    "import requests\n",
    "import json\n",
    "\n",
    "from pyspark.sql.types import IntegerType, StringType, DateType, DoubleType, LongType, StructType, StructField\n",
    "from pyspark.sql import SparkSession\n",
    "from pyspark.sql.functions import col, monotonically_increasing_id, current_date\n",
    "from datetime import date"
   ]
  },
  {
   "cell_type": "code",
   "execution_count": 46,
   "metadata": {},
   "outputs": [],
   "source": [
    "spark = SparkSession.builder.appName(\"Pokemon Go ELT\").master(\"local\").getOrCreate()"
   ]
  },
  {
   "cell_type": "code",
   "execution_count": 47,
   "metadata": {},
   "outputs": [],
   "source": [
    "fast_moves = requests.get('https://pogoapi.net/api/v1/fast_moves.json').json()"
   ]
  },
  {
   "cell_type": "code",
   "execution_count": 49,
   "metadata": {},
   "outputs": [
    {
     "name": "stdout",
     "output_type": "stream",
     "text": [
      "+---+-------+-------------------+-------------+-----+--------+------------+------+------------+----------+\n",
      "| id|move_id|stamina_loss_scaler|         name|power|duration|energy_delta|  type|total_damage|created_at|\n",
      "+---+-------+-------------------+-------------+-----+--------+------------+------+------------+----------+\n",
      "|  1|    200|               0.01|  Fury Cutter|    3|     400|           6|   Bug|        1200|2020-09-04|\n",
      "|  2|    201|               0.01|     Bug Bite|    5|     500|           6|   Bug|        2500|2020-09-04|\n",
      "|  3|    202|               0.01|         Bite|    6|     500|           4|  Dark|        3000|2020-09-04|\n",
      "|  4|    203|               0.01| Sucker Punch|    7|     700|           8|  Dark|        4900|2020-09-04|\n",
      "|  5|    204|               0.01|Dragon Breath|    6|     500|           4|Dragon|        3000|2020-09-04|\n",
      "+---+-------+-------------------+-------------+-----+--------+------------+------+------------+----------+\n",
      "only showing top 5 rows\n",
      "\n"
     ]
    }
   ],
   "source": [
    "fast_moves_schema = StructType([\n",
    "    StructField('id', IntegerType(), True),\n",
    "    StructField('move_id', IntegerType(), True),\n",
    "    StructField('stamina_loss_scaler', DoubleType(), True),\n",
    "    StructField('name', StringType(), True),\n",
    "    StructField('power', LongType(), True),\n",
    "    StructField('duration', LongType(), True),\n",
    "    StructField('energy_delta', LongType(), True),\n",
    "    StructField('type', StringType(), True),\n",
    "    StructField('total_damage', LongType(), True),\n",
    "    StructField('created_at', DateType(), True)\n",
    "])\n",
    "\n",
    "fast_moves_dataframe = spark.createDataFrame(fast_moves, fast_moves_schema)\n",
    "\n",
    "today = date.today().strftime('%d/%m/%Y')\n",
    "\n",
    "fast_moves_dataframe = fast_moves_dataframe \\\n",
    "    .withColumn('id', monotonically_increasing_id() + 1) \\\n",
    "    .withColumn('total_damage', col('power') * col('duration')) \\\n",
    "    .withColumn('created_at', current_date()) \n",
    "\n",
    "fast_moves_dataframe.show(5)"
   ]
  },
  {
   "cell_type": "code",
   "execution_count": 50,
   "metadata": {},
   "outputs": [
    {
     "name": "stdout",
     "output_type": "stream",
     "text": [
      "root\n",
      " |-- id: long (nullable = false)\n",
      " |-- move_id: integer (nullable = true)\n",
      " |-- stamina_loss_scaler: double (nullable = true)\n",
      " |-- name: string (nullable = true)\n",
      " |-- power: long (nullable = true)\n",
      " |-- duration: long (nullable = true)\n",
      " |-- energy_delta: long (nullable = true)\n",
      " |-- type: string (nullable = true)\n",
      " |-- total_damage: long (nullable = true)\n",
      " |-- created_at: date (nullable = false)\n",
      "\n"
     ]
    }
   ],
   "source": [
    "fast_moves_dataframe.printSchema()"
   ]
  },
  {
   "cell_type": "code",
   "execution_count": 51,
   "metadata": {},
   "outputs": [],
   "source": [
    "fast_moves_dataframe.toPandas().to_csv('pokemon.csv', index=False)"
   ]
  },
  {
   "cell_type": "code",
   "execution_count": 52,
   "metadata": {},
   "outputs": [],
   "source": [
    "pokemon_dataframe = spark.read.csv('pokemon.csv', header=True)"
   ]
  },
  {
   "cell_type": "code",
   "execution_count": 53,
   "metadata": {},
   "outputs": [
    {
     "name": "stdout",
     "output_type": "stream",
     "text": [
      "+---+-------+-------------------+-------------+-----+--------+------------+------+------------+----------+\n",
      "| id|move_id|stamina_loss_scaler|         name|power|duration|energy_delta|  type|total_damage|created_at|\n",
      "+---+-------+-------------------+-------------+-----+--------+------------+------+------------+----------+\n",
      "|  1|    200|               0.01|  Fury Cutter|    3|     400|           6|   Bug|        1200|2020-09-04|\n",
      "|  2|    201|               0.01|     Bug Bite|    5|     500|           6|   Bug|        2500|2020-09-04|\n",
      "|  3|    202|               0.01|         Bite|    6|     500|           4|  Dark|        3000|2020-09-04|\n",
      "|  4|    203|               0.01| Sucker Punch|    7|     700|           8|  Dark|        4900|2020-09-04|\n",
      "|  5|    204|               0.01|Dragon Breath|    6|     500|           4|Dragon|        3000|2020-09-04|\n",
      "+---+-------+-------------------+-------------+-----+--------+------------+------+------------+----------+\n",
      "only showing top 5 rows\n",
      "\n"
     ]
    }
   ],
   "source": [
    "pokemon_dataframe.show(5)"
   ]
  }
 ],
 "metadata": {
  "kernelspec": {
   "display_name": "Python 3",
   "language": "python",
   "name": "python3"
  },
  "language_info": {
   "codemirror_mode": {
    "name": "ipython",
    "version": 3
   },
   "file_extension": ".py",
   "mimetype": "text/x-python",
   "name": "python",
   "nbconvert_exporter": "python",
   "pygments_lexer": "ipython3",
   "version": "3.8.5"
  }
 },
 "nbformat": 4,
 "nbformat_minor": 4
}
