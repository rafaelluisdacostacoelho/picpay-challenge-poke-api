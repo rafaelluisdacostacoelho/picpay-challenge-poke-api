{
 "cells": [
  {
   "cell_type": "code",
   "execution_count": 1,
   "metadata": {},
   "outputs": [],
   "source": [
    "import requests\n",
    "import json\n",
    "\n",
    "from pyspark.sql import SparkSession"
   ]
  },
  {
   "cell_type": "code",
   "execution_count": 13,
   "metadata": {},
   "outputs": [],
   "source": [
    "spark = SparkSession \\\n",
    "    .builder \\\n",
    "    .appName(\"Pokemon Go ETL\") \\\n",
    "    .master(\"local\") \\\n",
    "    .getOrCreate()"
   ]
  },
  {
   "cell_type": "code",
   "execution_count": 20,
   "metadata": {},
   "outputs": [
    {
     "name": "stdout",
     "output_type": "stream",
     "text": [
      "+---+-------+-------------------+-------------+-----+--------+------------+------+------------+----------+\n",
      "| id|move_id|stamina_loss_scaler|         name|power|duration|energy_delta|  type|total_damage|created_at|\n",
      "+---+-------+-------------------+-------------+-----+--------+------------+------+------------+----------+\n",
      "|  1|    200|               0.01|  Fury Cutter|    3|     400|           6|   Bug|        1200|2020-09-04|\n",
      "|  2|    201|               0.01|     Bug Bite|    5|     500|           6|   Bug|        2500|2020-09-04|\n",
      "|  3|    202|               0.01|         Bite|    6|     500|           4|  Dark|        3000|2020-09-04|\n",
      "|  4|    203|               0.01| Sucker Punch|    7|     700|           8|  Dark|        4900|2020-09-04|\n",
      "|  5|    204|               0.01|Dragon Breath|    6|     500|           4|Dragon|        3000|2020-09-04|\n",
      "+---+-------+-------------------+-------------+-----+--------+------------+------+------------+----------+\n",
      "only showing top 5 rows\n",
      "\n"
     ]
    }
   ],
   "source": [
    "pokemon = spark.read.csv('pokemon.csv', header=True)\n",
    "\n",
    "pokemon.show(5)\n",
    "\n",
    "pokemon.createOrReplaceTempView('pokemon')"
   ]
  },
  {
   "cell_type": "code",
   "execution_count": 22,
   "metadata": {},
   "outputs": [
    {
     "name": "stdout",
     "output_type": "stream",
     "text": [
      "+---+----------+------------+\n",
      "| id|pokemon_id|pokemon_name|\n",
      "+---+----------+------------+\n",
      "|  1|       138|     Omanyte|\n",
      "|  2|       354|     Banette|\n",
      "|  3|       404|       Luxio|\n",
      "|  4|       469|     Yanmega|\n",
      "|  5|         8|   Wartortle|\n",
      "+---+----------+------------+\n",
      "only showing top 5 rows\n",
      "\n"
     ]
    }
   ],
   "source": [
    "pokemon_stats = spark.read.csv('pokemon_stats.csv', header=True)\n",
    "\n",
    "pokemon_stats.show(5)\n",
    "\n",
    "pokemon_stats.createOrReplaceTempView('pokemon_stats')"
   ]
  },
  {
   "cell_type": "code",
   "execution_count": 21,
   "metadata": {},
   "outputs": [
    {
     "name": "stdout",
     "output_type": "stream",
     "text": [
      "+---+----------+------------+------+\n",
      "| id|pokemon_id|pokemon_name|  type|\n",
      "+---+----------+------------+------+\n",
      "|  1|        53|     Persian|Normal|\n",
      "|  2|       226|     Mantine| Water|\n",
      "|  3|       226|     Mantine|Flying|\n",
      "|  4|       366|    Clamperl| Water|\n",
      "|  5|         7|    Squirtle| Water|\n",
      "+---+----------+------------+------+\n",
      "only showing top 5 rows\n",
      "\n"
     ]
    }
   ],
   "source": [
    "pokemon_types = spark.read.csv('pokemon_types.csv', header=True)\n",
    "\n",
    "pokemon_types.show(5)\n",
    "\n",
    "pokemon_types.createOrReplaceTempView('pokemon_types')"
   ]
  },
  {
   "cell_type": "code",
   "execution_count": 26,
   "metadata": {},
   "outputs": [
    {
     "name": "stdout",
     "output_type": "stream",
     "text": [
      "+----------+------------+------------+------------+------------+\n",
      "|pokemon_id|pokemon_name|pokemon_type|pokemon_move|total_damage|\n",
      "+----------+------------+------------+------------+------------+\n",
      "|        53|     Persian|      Normal|     Lock On|         300|\n",
      "|        53|     Persian|      Normal|     Present|        6500|\n",
      "|        53|     Persian|      Normal|        Yawn|           0|\n",
      "|        53|     Persian|      Normal|   Take Down|        9600|\n",
      "|        53|     Persian|      Normal|Hidden Power|       22500|\n",
      "|        53|     Persian|      Normal|   Transform|           0|\n",
      "|        53|     Persian|      Normal|         Cut|        2500|\n",
      "|        53|     Persian|      Normal|       Pound|        4200|\n",
      "|        53|     Persian|      Normal|      Tackle|        2500|\n",
      "|        53|     Persian|      Normal|     Scratch|        3000|\n",
      "|        53|     Persian|      Normal|Quick Attack|        6400|\n",
      "|       226|     Mantine|       Water|   Waterfall|       19200|\n",
      "|       226|     Mantine|       Water|      Bubble|       14400|\n",
      "|       226|     Mantine|       Water|      Splash|           0|\n",
      "|       226|     Mantine|       Water|   Water Gun|        2500|\n",
      "|       226|     Mantine|      Flying|   Air Slash|       16800|\n",
      "|       226|     Mantine|      Flying|        Peck|       10000|\n",
      "|       226|     Mantine|      Flying| Wing Attack|        6400|\n",
      "|       366|    Clamperl|       Water|   Waterfall|       19200|\n",
      "|       366|    Clamperl|       Water|      Bubble|       14400|\n",
      "+----------+------------+------------+------------+------------+\n",
      "only showing top 20 rows\n",
      "\n"
     ]
    }
   ],
   "source": [
    "spark.sql(\n",
    "'''\n",
    "SELECT t.pokemon_id   pokemon_id,\n",
    "       t.pokemon_name pokemon_name,\n",
    "       t.type         pokemon_type,\n",
    "       p.name         pokemon_move,\n",
    "       p.total_damage total_damage\n",
    "  FROM pokemon p\n",
    " INNER JOIN pokemon_types t\n",
    "    ON t.type = p.type\n",
    " LIMIT 100\n",
    "''').show()"
   ]
  }
 ],
 "metadata": {
  "kernelspec": {
   "display_name": "Python 3",
   "language": "python",
   "name": "python3"
  },
  "language_info": {
   "codemirror_mode": {
    "name": "ipython",
    "version": 3
   },
   "file_extension": ".py",
   "mimetype": "text/x-python",
   "name": "python",
   "nbconvert_exporter": "python",
   "pygments_lexer": "ipython3",
   "version": "3.8.5"
  }
 },
 "nbformat": 4,
 "nbformat_minor": 4
}
